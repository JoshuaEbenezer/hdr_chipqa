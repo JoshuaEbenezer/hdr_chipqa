{
 "cells": [
  {
   "cell_type": "code",
   "execution_count": 6,
   "metadata": {},
   "outputs": [],
   "source": [
    "import numpy as np\n",
    "from joblib import Parallel,delayed\n",
    "import pandas as pd\n",
    "from sklearn.model_selection import train_test_split\n",
    "from sklearn.preprocessing import StandardScaler\n",
    "from joblib import load\n",
    "from scipy.stats import pearsonr,spearmanr\n",
    "from sklearn.svm import SVR\n",
    "from sklearn.model_selection import GridSearchCV\n",
    "import glob\n",
    "import os\n",
    "import matplotlib.pyplot as plt\n",
    "\n",
    "\n",
    "\n",
    "scores_df = pd.read_csv('../hdr_4k_mos_and_dmos.csv')\n",
    "video_names = scores_df['video']\n",
    "scores = scores_df['mos']\n",
    "#scores_df['content']=[ i[-9:] for i in scores_df['video'] ]\n"
   ]
  },
  {
   "cell_type": "code",
   "execution_count": 3,
   "metadata": {},
   "outputs": [
    {
     "data": {
      "text/plain": [
       "Text(0, 0.5, 'Count')"
      ]
     },
     "execution_count": 3,
     "metadata": {},
     "output_type": "execute_result"
    },
    {
     "data": {
      "image/png": "[encoded data removed]",
      "text/plain": [
       "<Figure size 432x288 with 1 Axes>"
      ]
     },
     "metadata": {
      "needs_background": "light"
     },
     "output_type": "display_data"
    }
   ],
   "source": [
    "plt.hist(scores,bins='auto')\n",
    "plt.xlabel('DMOS')\n",
    "plt.ylabel('Count')"
   ]
  },
  {
   "cell_type": "code",
   "execution_count": null,
   "metadata": {},
   "outputs": [
    {
     "name": "stdout",
     "output_type": "stream",
     "text": [
      "43\n"
     ]
    }
   ],
   "source": [
    "print(len(scores_df['content'].unique()))\n",
    "srocc_list = []\n",
    "test_zips = []\n",
    "\n",
    "def find(lst, a):\n",
    "    return [i for i, x in enumerate(lst) if x==a]\n",
    "\n",
    "def single_run_svr(r):\n",
    "    train,test = train_test_split(scores_df['content'].unique(),test_size=0.2,random_state=r)\n",
    "    train_features = []\n",
    "    train_indices = []\n",
    "    test_features = []\n",
    "    train_scores = []\n",
    "    test_scores = []\n",
    "    train_vids = []\n",
    "    test_vids = []\n",
    "    feature_folder= './hdr_chipqa_pq_features'\n",
    "\n",
    "    for i,vid in enumerate(video_names):\n",
    "        featfile_name = vid[:-4]+'.z'\n",
    "        score = scores[i]\n",
    "        feature = np.asarray(load(os.path.join(feature_folder,featfile_name))['features'],dtype=np.float32)\n",
    "        feature = np.nan_to_num(feature)\n",
    "#        if(np.isnan(feature).any()):\n",
    "#            print(vid)\n",
    "        if(scores_df.loc[i]['content'] in train):\n",
    "            train_features.append(feature)\n",
    "            train_scores.append(score)\n",
    "            train_indices.append(i)\n",
    "            train_vids.append(vid)\n",
    "            \n",
    "        else:\n",
    "            test_features.append(feature)\n",
    "            test_scores.append(score)\n",
    "            test_vids.append(vid)\n",
    "    train_features = np.asarray(train_features)\n",
    "    naninds =np.argwhere(np.isnan(train_features)) \n",
    "    nanshape = naninds.shape\n",
    "#    for nanind in range(nanshape[0]):\n",
    "#        actind = train_indices[nanind]\n",
    "#        print(scores_df.loc[actind]['video'])\n",
    "    scaler = StandardScaler()\n",
    "    scaler.fit(train_features)\n",
    "    X_train = scaler.transform(train_features)\n",
    "    X_test = scaler.transform(test_features)\n",
    "    grid_svr = GridSearchCV(SVR(),param_grid = {\"gamma\":np.logspace(-8,1,10),\"C\":np.logspace(1,10,10,base=2)},cv=5)\n",
    "    grid_svr.fit(X_train, train_scores)\n",
    "    preds =grid_svr.predict(X_test)\n",
    "    test_zip = list(zip(test_vids,test_scores,preds))\n",
    "    return test_zip\n",
    "#    test_zips.append(test_zip)\n",
    "#\n",
    "#\n",
    "#    srocc_test = spearmanr(preds,test_scores)\n",
    "#    print(srocc_test)\n",
    "#    srocc_list.append(srocc_test[0])\n",
    "\n",
    "test_zips = Parallel(n_jobs=-1)(delayed(single_run_svr)(r) for r in range(100))\n",
    "\n"
   ]
  },
  {
   "cell_type": "code",
   "execution_count": null,
   "metadata": {},
   "outputs": [],
   "source": [
    "scores = []\n",
    "names =[]\n",
    "preds =[]\n",
    "print(np.median(srocc_list))\n",
    "for v in test_zips:\n",
    "    print(v)\n",
    "    for l in v:\n",
    "        names.append(l[0])\n",
    "        scores.append(l[1])\n",
    "        preds.append(l[2])\n",
    "print(names)\n",
    "print(scores)\n",
    "nscores= []\n",
    "npreds = []\n",
    "nset = set(names)\n",
    "print(len(names))\n",
    "print(len(nset))\n",
    "print(nset)\n",
    "for n in nset:\n",
    "    indices = find(names,n)\n",
    "    nscores.append(np.mean([scores[i] for i in indices]))\n",
    "    npreds.append(np.mean([preds[i] for i in indices]))\n",
    "print(nscores,npreds)\n",
    "\n",
    "\n",
    "\n"
   ]
  },
  {
   "cell_type": "code",
   "execution_count": 3,
   "metadata": {},
   "outputs": [
    {
     "data": {
      "image/png": "[encoded data removed]",
      "text/plain": [
       "<Figure size 432x288 with 1 Axes>"
      ]
     },
     "metadata": {
      "needs_background": "light"
     },
     "output_type": "display_data"
    }
   ],
   "source": [
    "\n",
    "plt.scatter(nscores,npreds)\n",
    "plt.xlabel('MOS')\n",
    "plt.ylabel('Prediction')\n",
    "plt.show()"
   ]
  },
  {
   "cell_type": "code",
   "execution_count": null,
   "metadata": {},
   "outputs": [],
   "source": []
  }
 ],
 "metadata": {
  "kernelspec": {
   "display_name": "Python 3",
   "language": "python",
   "name": "python3"
  },
  "language_info": {
   "codemirror_mode": {
    "name": "ipython",
    "version": 3
   },
   "file_extension": ".py",
   "mimetype": "text/x-python",
   "name": "python",
   "nbconvert_exporter": "python",
   "pygments_lexer": "ipython3",
   "version": "3.7.7"
  }
 },
 "nbformat": 4,
 "nbformat_minor": 5
}
